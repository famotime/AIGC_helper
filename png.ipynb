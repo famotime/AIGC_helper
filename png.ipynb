{
 "cells": [
  {
   "cell_type": "code",
   "execution_count": 8,
   "metadata": {},
   "outputs": [],
   "source": [
    "from PIL import Image\n",
    "import pprint\n",
    "\n",
    "# 打开PNG文件\n",
    "image = Image.open('./image/test.png')\n",
    "\n",
    "# 获取所有的chunk信息\n",
    "chunks = image.info.get('png', {})\n",
    "\n",
    "# 打印所有的chunk信息\n",
    "for chunk_name, chunk_data in chunks.items():\n",
    "    print(f\"Chunk Name: {chunk_name}\")\n",
    "    print(f\"Chunk Data: {chunk_data}\")\n",
    "    \n"
   ]
  },
  {
   "cell_type": "code",
   "execution_count": 10,
   "metadata": {},
   "outputs": [
    {
     "name": "stdout",
     "output_type": "stream",
     "text": [
      "{'parameters': 'Best quality,masterpiece,ultra high res,cinematic lighting,rim '\n",
      "               'lighting,highly detailed,official art,flawless,sharp '\n",
      "               'focus,depth of field,exquisite details and textures,delicate '\n",
      "               'and beautiful, anime key visual, (art by Victor Prezio:0.7), '\n",
      "               'Painting, Berlin Secession, Radiant Giant Doberman Pinscher, '\n",
      "               'plain background, at Twilight, Screen print, Sad, concept art, '\n",
      "               'Fujicolor, Navy Blue outlines \\n'\n",
      "               'Negative prompt: EasyNegative,lowres,bad anatomy,bad '\n",
      "               'hands,text,error,missing fingers,extra digit,fewer '\n",
      "               'digits,cropped,worst quality,low quality,normal quality,jpeg '\n",
      "               'artifacts,signature,watermark,username,blurry,\\n'\n",
      "               'Steps: 20, Sampler: Euler a, CFG scale: 7, Seed: 2200974464, '\n",
      "               'Size: 512x768, Model hash: fac8391416, Model: AnimeVerse_v1, '\n",
      "               'ENSD: 31337, Version: v1.3.1\\n'\n",
      "               'Template: Best quality,masterpiece,ultra high res,cinematic '\n",
      "               'lighting,rim lighting,highly detailed,official '\n",
      "               'art,flawless,sharp focus,depth of field,exquisite details and '\n",
      "               'textures,delicate and beautiful, anime key visual, (art by '\n",
      "               'Victor Prezio:0.7), Painting, Berlin Secession, Radiant Giant '\n",
      "               'Doberman Pinscher, plain background, at Twilight, Screen '\n",
      "               'print, Sad, concept art, Fujicolor, Navy Blue outlines\\n'\n",
      "               'Negative Template: EasyNegative,lowres,bad anatomy,bad '\n",
      "               'hands,text,error,missing fingers,extra digit,fewer '\n",
      "               'digits,cropped,worst quality,low quality,normal quality,jpeg '\n",
      "               'artifacts,signature,watermark,username,blurry,'}\n"
     ]
    }
   ],
   "source": [
    "pprint.pprint(image.info)"
   ]
  },
  {
   "cell_type": "code",
   "execution_count": 24,
   "metadata": {},
   "outputs": [
    {
     "name": "stdout",
     "output_type": "stream",
     "text": [
      "parameters\u0000Best quality,masterpiece,ultra high res,cinematic lighting,rim lighting,highly detailed,official art,flawless,sharp focus,depth of field,exquisite details and textures,delicate and beautiful, anime key visual, (art by Victor Prezio:0.7), Painting, Berlin Secession, Radiant Giant Doberman Pinscher, plain background, at Twilight, Screen print, Sad, concept art, Fujicolor, Navy Blue outlines \n",
      "Negative prompt: EasyNegative,lowres,bad anatomy,bad hands,text,error,missing fingers,extra digit,fewer digits,cropped,worst quality,low quality,normal quality,jpeg artifacts,signature,watermark,username,blurry,\n",
      "Steps: 20, Sampler: Euler a, CFG scale: 7, Seed: 2200974464, Size: 512x768, Model hash: fac8391416, Model: AnimeVerse_v1, ENSD: 31337, Version: v1.3.1\n",
      "Template: Best quality,masterpiece,ultra high res,cinematic lighting,rim lighting,highly detailed,official art,flawless,sharp focus,depth of field,exquisite details and textures,delicate and beautiful, anime key visual, (art by Victor Prezio:0.7), Painting, Berlin Secession, Radiant Giant Doberman Pinscher, plain background, at Twilight, Screen print, Sad, concept art, Fujicolor, Navy Blue outlines\n",
      "Negative Template: EasyNegative,lowres,bad anatomy,bad hands,text,error,missing fingers,extra digit,fewer digits,cropped,worst quality,low quality,normal quality,jpeg artifacts,signature,watermark,username,blurry,\n"
     ]
    }
   ],
   "source": [
    "import png\n",
    "\n",
    "# 打开PNG文件\n",
    "with open('./image/test.png', 'rb') as file:\n",
    "    # 读取PNG文件的chunk信息\n",
    "    chunks = png.Reader(file).chunks()\n",
    "\n",
    "    # 打印所有的chunk信息\n",
    "    for chunk_type, chunk_data in chunks:\n",
    "        # print(f\"Chunk Type: {chunk_type}\")\n",
    "        # print(f\"Chunk Data: {chunk_data}\")\n",
    "        if chunk_type == b'tEXt':\n",
    "            print(chunk_data.decode('utf-8'))"
   ]
  },
  {
   "cell_type": "code",
   "execution_count": 17,
   "metadata": {},
   "outputs": [
    {
     "data": {
      "text/plain": [
       "{}"
      ]
     },
     "execution_count": 17,
     "metadata": {},
     "output_type": "execute_result"
    }
   ],
   "source": []
  }
 ],
 "metadata": {
  "kernelspec": {
   "display_name": "base",
   "language": "python",
   "name": "python3"
  },
  "language_info": {
   "codemirror_mode": {
    "name": "ipython",
    "version": 3
   },
   "file_extension": ".py",
   "mimetype": "text/x-python",
   "name": "python",
   "nbconvert_exporter": "python",
   "pygments_lexer": "ipython3",
   "version": "3.9.13"
  },
  "orig_nbformat": 4
 },
 "nbformat": 4,
 "nbformat_minor": 2
}
