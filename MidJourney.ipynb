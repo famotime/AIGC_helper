{
 "cells": [
  {
   "cell_type": "code",
   "execution_count": 29,
   "metadata": {},
   "outputs": [
    {
     "name": "stdout",
     "output_type": "stream",
     "text": [
      "{\"statusCode\":200,\"message\":\"Success\",\"data\":1323}\n"
     ]
    },
    {
     "data": {
      "text/plain": [
       "1323"
      ]
     },
     "execution_count": 29,
     "metadata": {},
     "output_type": "execute_result"
    }
   ],
   "source": [
    "import requests\n",
    "\n",
    "url = \"https://aigptx.top/api/v1/ai/draw/mj/imagine\"\n",
    "\n",
    "payload = {\n",
    "    'model': 'midjourney',\n",
    "    'prompt':\n",
    "    'sunny girl --ar 73:88 --s 750 --niji 5',\n",
    "    'type': 'NORMAL',\n",
    "    'webhook': 'https://webhook.site/5cbda08e-a507-4381-8983-16ac273123f1'\n",
    "}\n",
    "\n",
    "headers = {\n",
    "    'User-Agent': 'Apifox/1.0.0 (https://apifox.com)',\n",
    "    'Authorization':\n",
    "    'Bearer sk-JNjhHXLBJOG7b1MI65JS8ngGFXPoNrbimgZh3zgfRdv8sNFZ'\n",
    "}\n",
    "\n",
    "response = requests.request(\"POST\", url, headers=headers, json=payload)\n",
    "\n",
    "print(response.text)\n",
    "taskid = response.json()['data']\n",
    "taskid"
   ]
  },
  {
   "cell_type": "code",
   "execution_count": 39,
   "metadata": {},
   "outputs": [
    {
     "data": {
      "text/plain": [
       "{'taskId': 1323,\n",
       " 'taskType': 'NORMAL',\n",
       " 'status': 'SUCCESS',\n",
       " 'action': 'IMAGINE',\n",
       " 'progress': '100%',\n",
       " 'description': '/imagine sunny girl --ar 73:88 --s 750 --niji 5',\n",
       " 'prompt': 'sunny girl --ar 73:88 --s 750 --niji 5',\n",
       " 'failReason': None,\n",
       " 'submitTime': '2023-09-19T14:17:41.000Z',\n",
       " 'startTime': '2023-09-19T14:17:44.000Z',\n",
       " 'finishTime': '2023-09-19T14:18:33.000Z',\n",
       " 'webhookUrl': 'https://webhook.site/5cbda08e-a507-4381-8983-16ac273123f1',\n",
       " 'imageDcUrl': 'https://cdn.discordapp.com/attachments/1136958712796430388/1153696637735149620/gpg4win_45703_sunny_girl_6c8e10ec-0c1e-48c3-bf56-679658975cd8.png',\n",
       " 'imageS3Url': 'i7VLcZjH-e15afc72-a01e-4788-b1f6-53470968356d.png',\n",
       " 'actions': [{'customId': 'MJ::JOB::upsample::1::6c8e10ec-0c1e-48c3-bf56-679658975cd8',\n",
       "   'emoji': '',\n",
       "   'label': 'U1'},\n",
       "  {'customId': 'MJ::JOB::upsample::2::6c8e10ec-0c1e-48c3-bf56-679658975cd8',\n",
       "   'emoji': '',\n",
       "   'label': 'U2'},\n",
       "  {'customId': 'MJ::JOB::upsample::3::6c8e10ec-0c1e-48c3-bf56-679658975cd8',\n",
       "   'emoji': '',\n",
       "   'label': 'U3'},\n",
       "  {'customId': 'MJ::JOB::upsample::4::6c8e10ec-0c1e-48c3-bf56-679658975cd8',\n",
       "   'emoji': '',\n",
       "   'label': 'U4'},\n",
       "  {'customId': 'MJ::JOB::reroll::0::6c8e10ec-0c1e-48c3-bf56-679658975cd8::SOLO',\n",
       "   'emoji': '🔄',\n",
       "   'label': ''},\n",
       "  {'customId': 'MJ::JOB::variation::1::6c8e10ec-0c1e-48c3-bf56-679658975cd8',\n",
       "   'emoji': '',\n",
       "   'label': 'V1'},\n",
       "  {'customId': 'MJ::JOB::variation::2::6c8e10ec-0c1e-48c3-bf56-679658975cd8',\n",
       "   'emoji': '',\n",
       "   'label': 'V2'},\n",
       "  {'customId': 'MJ::JOB::variation::3::6c8e10ec-0c1e-48c3-bf56-679658975cd8',\n",
       "   'emoji': '',\n",
       "   'label': 'V3'},\n",
       "  {'customId': 'MJ::JOB::variation::4::6c8e10ec-0c1e-48c3-bf56-679658975cd8',\n",
       "   'emoji': '',\n",
       "   'label': 'V4'}]}"
      ]
     },
     "execution_count": 39,
     "metadata": {},
     "output_type": "execute_result"
    }
   ],
   "source": [
    "import requests\n",
    "import json\n",
    "\n",
    "\n",
    "token_id = \"5cbda08e-a507-4381-8983-16ac273123f1\"\n",
    "\n",
    "r = requests.get(f'https://webhook.site/token/{token_id}/requests?query=content:{taskid}&sorting=newest')\n",
    "\n",
    "# for request in r.json()['data']:\n",
    "#     print(request)\n",
    "\n",
    "for res in r.json()['data']:\n",
    "    content = json.loads(res['content'])\n",
    "    if content['status'] == 'SUCCESS':\n",
    "        success_response = content\n",
    "        break\n",
    "        \n",
    "success_response"
   ]
  },
  {
   "cell_type": "code",
   "execution_count": 40,
   "metadata": {},
   "outputs": [
    {
     "name": "stdout",
     "output_type": "stream",
     "text": [
      "图片下载完成！\n"
     ]
    }
   ],
   "source": [
    "image_url = success_response['imageDcUrl']\n",
    "\n",
    "response = requests.get(image_url)\n",
    "\n",
    "with open('image.jpg', 'wb') as file:\n",
    "    file.write(response.content)\n",
    "\n",
    "print('图片下载完成！')"
   ]
  }
 ],
 "metadata": {
  "kernelspec": {
   "display_name": "base",
   "language": "python",
   "name": "python3"
  },
  "language_info": {
   "codemirror_mode": {
    "name": "ipython",
    "version": 3
   },
   "file_extension": ".py",
   "mimetype": "text/x-python",
   "name": "python",
   "nbconvert_exporter": "python",
   "pygments_lexer": "ipython3",
   "version": "3.9.13"
  },
  "orig_nbformat": 4
 },
 "nbformat": 4,
 "nbformat_minor": 2
}
