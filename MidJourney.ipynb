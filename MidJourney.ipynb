{
 "cells": [
  {
   "cell_type": "code",
   "execution_count": 14,
   "metadata": {},
   "outputs": [
    {
     "name": "stdout",
     "output_type": "stream",
     "text": [
      "{\"statusCode\":200,\"message\":\"Success\",\"data\":1340}\n"
     ]
    },
    {
     "data": {
      "text/plain": [
       "1340"
      ]
     },
     "execution_count": 14,
     "metadata": {},
     "output_type": "execute_result"
    }
   ],
   "source": [
    "import requests\n",
    "import pathlib\n",
    "import json\n",
    "\n",
    "\n",
    "def get_account_info(account_file):\n",
    "    \"\"\"获取账号信息\"\"\"\n",
    "    with open(account_file, encoding='utf-8') as f:\n",
    "        content = json.load(f)\n",
    "        webhook = content['midjourney']['webhook']\n",
    "        Authorization = content['midjourney']['Authorization']\n",
    "    return webhook, Authorization\n",
    "\n",
    "account_file = pathlib.Path(\"../account/web_accounts.json\")\n",
    "webhook, Authorization = get_account_info(account_file)\n",
    "\n",
    "url = \"https://aigptx.top/api/v1/ai/draw/mj/imagine\"\n",
    "\n",
    "payload = {\n",
    "    'model': 'midjourney',\n",
    "    'prompt':\n",
    "    'sunny girl --ar 73:88 --s 750 --niji 5',\n",
    "    'type': 'NORMAL',\n",
    "    'webhook': webhook\n",
    "}\n",
    "\n",
    "headers = {\n",
    "    'User-Agent': 'Apifox/1.0.0 (https://apifox.com)',\n",
    "    'Authorization': Authorization,\n",
    "}\n",
    "\n",
    "response = requests.request(\"POST\", url, headers=headers, json=payload)\n",
    "\n",
    "print(response.text)\n",
    "taskid = response.json()['data']\n",
    "taskid"
   ]
  },
  {
   "cell_type": "code",
   "execution_count": 15,
   "metadata": {},
   "outputs": [
    {
     "data": {
      "text/plain": [
       "{'taskId': 1340,\n",
       " 'taskType': 'NORMAL',\n",
       " 'status': 'SUCCESS',\n",
       " 'action': 'IMAGINE',\n",
       " 'progress': '100%',\n",
       " 'description': '/imagine sunny girl --ar 73:88 --s 750 --niji 5',\n",
       " 'prompt': 'sunny girl --ar 73:88 --s 750 --niji 5',\n",
       " 'failReason': None,\n",
       " 'submitTime': '2023-09-19T14:53:56.000Z',\n",
       " 'startTime': '2023-09-19T14:53:56.000Z',\n",
       " 'finishTime': '2023-09-19T14:54:50.000Z',\n",
       " 'webhookUrl': 'https://webhook.site/5cbda08e-a507-4381-8983-16ac273123f1',\n",
       " 'imageDcUrl': 'https://cdn.discordapp.com/attachments/1136958712796430388/1153705767157903360/gpg4win_45703_sunny_girl_6ff3139a-689b-4386-a223-496fee427e4d.png',\n",
       " 'imageS3Url': 'ubFs3QGd-e6ccdf40-42b1-4fb3-8706-d996e6f44dd3.png',\n",
       " 'actions': [{'customId': 'MJ::JOB::upsample::1::6ff3139a-689b-4386-a223-496fee427e4d',\n",
       "   'emoji': '',\n",
       "   'label': 'U1'},\n",
       "  {'customId': 'MJ::JOB::upsample::2::6ff3139a-689b-4386-a223-496fee427e4d',\n",
       "   'emoji': '',\n",
       "   'label': 'U2'},\n",
       "  {'customId': 'MJ::JOB::upsample::3::6ff3139a-689b-4386-a223-496fee427e4d',\n",
       "   'emoji': '',\n",
       "   'label': 'U3'},\n",
       "  {'customId': 'MJ::JOB::upsample::4::6ff3139a-689b-4386-a223-496fee427e4d',\n",
       "   'emoji': '',\n",
       "   'label': 'U4'},\n",
       "  {'customId': 'MJ::JOB::reroll::0::6ff3139a-689b-4386-a223-496fee427e4d::SOLO',\n",
       "   'emoji': '🔄',\n",
       "   'label': ''},\n",
       "  {'customId': 'MJ::JOB::variation::1::6ff3139a-689b-4386-a223-496fee427e4d',\n",
       "   'emoji': '',\n",
       "   'label': 'V1'},\n",
       "  {'customId': 'MJ::JOB::variation::2::6ff3139a-689b-4386-a223-496fee427e4d',\n",
       "   'emoji': '',\n",
       "   'label': 'V2'},\n",
       "  {'customId': 'MJ::JOB::variation::3::6ff3139a-689b-4386-a223-496fee427e4d',\n",
       "   'emoji': '',\n",
       "   'label': 'V3'},\n",
       "  {'customId': 'MJ::JOB::variation::4::6ff3139a-689b-4386-a223-496fee427e4d',\n",
       "   'emoji': '',\n",
       "   'label': 'V4'}]}"
      ]
     },
     "execution_count": 15,
     "metadata": {},
     "output_type": "execute_result"
    }
   ],
   "source": [
    "import requests\n",
    "import json\n",
    "import time\n",
    "\n",
    "\n",
    "token_id = \"5cbda08e-a507-4381-8983-16ac273123f1\"\n",
    "success_response = ''\n",
    "\n",
    "\n",
    "# for request in r.json()['data']:\n",
    "#     print(request)\n",
    "\n",
    "\n",
    "while not success_response:\n",
    "    r = requests.get(f'https://webhook.site/token/{token_id}/requests?query=content:{taskid}&sorting=newest')\n",
    "    for res in r.json()['data']:\n",
    "        content = json.loads(res['content'])\n",
    "        if content['status'] == 'SUCCESS':\n",
    "            success_response = content\n",
    "            break\n",
    "    time.sleep(1)\n",
    "\n",
    "success_response"
   ]
  },
  {
   "cell_type": "code",
   "execution_count": 16,
   "metadata": {},
   "outputs": [
    {
     "name": "stdout",
     "output_type": "stream",
     "text": [
      "图片下载完成！\n"
     ]
    }
   ],
   "source": [
    "image_url = success_response['imageDcUrl']\n",
    "\n",
    "response = requests.get(image_url)\n",
    "\n",
    "with open('image.jpg', 'wb') as file:\n",
    "    file.write(response.content)\n",
    "\n",
    "print('图片下载完成！')"
   ]
  }
 ],
 "metadata": {
  "kernelspec": {
   "display_name": "base",
   "language": "python",
   "name": "python3"
  },
  "language_info": {
   "codemirror_mode": {
    "name": "ipython",
    "version": 3
   },
   "file_extension": ".py",
   "mimetype": "text/x-python",
   "name": "python",
   "nbconvert_exporter": "python",
   "pygments_lexer": "ipython3",
   "version": "3.11.7"
  },
  "orig_nbformat": 4
 },
 "nbformat": 4,
 "nbformat_minor": 2
}
